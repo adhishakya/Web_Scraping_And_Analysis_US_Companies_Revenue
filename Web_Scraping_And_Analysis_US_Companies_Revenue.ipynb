{
 "cells": [
  {
   "cell_type": "code",
   "execution_count": 157,
   "id": "0179aa72-d78c-40a5-b947-0f8a7db6fc71",
   "metadata": {},
   "outputs": [],
   "source": [
    "from bs4 import BeautifulSoup\n",
    "import requests\n",
    "import pandas as pd"
   ]
  },
  {
   "cell_type": "code",
   "execution_count": 158,
   "id": "01b24021-f541-4354-9cd9-2deda50a36c2",
   "metadata": {},
   "outputs": [],
   "source": [
    "url = 'https://en.wikipedia.org/wiki/List_of_largest_companies_in_the_United_States_by_revenue'"
   ]
  },
  {
   "cell_type": "code",
   "execution_count": 159,
   "id": "d9b299a5-f5be-46a1-ac3f-4dc9ce170dca",
   "metadata": {},
   "outputs": [],
   "source": [
    "page = requests.get(url)"
   ]
  },
  {
   "cell_type": "code",
   "execution_count": 160,
   "id": "3e5c8f97-44e3-4f7f-aa72-f5baa38d0ac0",
   "metadata": {},
   "outputs": [],
   "source": [
    "soup = BeautifulSoup(page.text,'html')"
   ]
  },
  {
   "cell_type": "code",
   "execution_count": 161,
   "id": "080d7bb2-f93f-4653-a876-af0a3e670847",
   "metadata": {},
   "outputs": [],
   "source": [
    "# print(soup.prettify())"
   ]
  },
  {
   "cell_type": "code",
   "execution_count": 162,
   "id": "ea8b16e1-826b-4e66-9bdb-095bdbebd034",
   "metadata": {},
   "outputs": [],
   "source": [
    "table = soup.find_all('table', class_=['wikitable', 'sortable', 'jquery-tablesorter'])[0] #table extraction"
   ]
  },
  {
   "cell_type": "code",
   "execution_count": 163,
   "id": "91c6da6e-1bdb-40e0-8836-2864781218ba",
   "metadata": {},
   "outputs": [],
   "source": [
    "# print(table.prettify())"
   ]
  },
  {
   "cell_type": "code",
   "execution_count": 164,
   "id": "a1a20a2f-05f3-46a6-b546-32ad11996472",
   "metadata": {},
   "outputs": [],
   "source": [
    "headers = table.find_all('th') #header extraction"
   ]
  },
  {
   "cell_type": "code",
   "execution_count": 165,
   "id": "bc91e7aa-a9ab-457f-af1f-d5cf468eabc8",
   "metadata": {},
   "outputs": [],
   "source": [
    "table_headers = [heading.text.strip() for heading in headers]"
   ]
  },
  {
   "cell_type": "code",
   "execution_count": 166,
   "id": "5b4f2ffa-a011-4386-b9e9-745c687c95e5",
   "metadata": {},
   "outputs": [
    {
     "name": "stdout",
     "output_type": "stream",
     "text": [
      "['Rank', 'Name', 'Industry', 'Revenue (USD millions)', 'Revenue growth', 'Employees', 'Headquarters']\n"
     ]
    }
   ],
   "source": [
    "print(table_headers)"
   ]
  },
  {
   "cell_type": "code",
   "execution_count": 167,
   "id": "d7bad446-3752-44d1-9b1c-2e2f68dc4481",
   "metadata": {},
   "outputs": [],
   "source": [
    "df = pd.DataFrame(columns = table_headers)"
   ]
  },
  {
   "cell_type": "code",
   "execution_count": 168,
   "id": "2dee3716-a605-4cbe-8178-58c62feb5d88",
   "metadata": {},
   "outputs": [
    {
     "data": {
      "text/html": [
       "<div>\n",
       "<style scoped>\n",
       "    .dataframe tbody tr th:only-of-type {\n",
       "        vertical-align: middle;\n",
       "    }\n",
       "\n",
       "    .dataframe tbody tr th {\n",
       "        vertical-align: top;\n",
       "    }\n",
       "\n",
       "    .dataframe thead th {\n",
       "        text-align: right;\n",
       "    }\n",
       "</style>\n",
       "<table border=\"1\" class=\"dataframe\">\n",
       "  <thead>\n",
       "    <tr style=\"text-align: right;\">\n",
       "      <th></th>\n",
       "      <th>Rank</th>\n",
       "      <th>Name</th>\n",
       "      <th>Industry</th>\n",
       "      <th>Revenue (USD millions)</th>\n",
       "      <th>Revenue growth</th>\n",
       "      <th>Employees</th>\n",
       "      <th>Headquarters</th>\n",
       "    </tr>\n",
       "  </thead>\n",
       "  <tbody>\n",
       "  </tbody>\n",
       "</table>\n",
       "</div>"
      ],
      "text/plain": [
       "Empty DataFrame\n",
       "Columns: [Rank, Name, Industry, Revenue (USD millions), Revenue growth, Employees, Headquarters]\n",
       "Index: []"
      ]
     },
     "execution_count": 168,
     "metadata": {},
     "output_type": "execute_result"
    }
   ],
   "source": [
    "df"
   ]
  },
  {
   "cell_type": "code",
   "execution_count": 169,
   "id": "a830c655-5962-4641-9d21-32965355fe5b",
   "metadata": {},
   "outputs": [],
   "source": [
    "data_rows = table.find_all('tr')"
   ]
  },
  {
   "cell_type": "code",
   "execution_count": 170,
   "id": "c331247c-e128-4a1e-8a9d-3eed2ade103e",
   "metadata": {},
   "outputs": [],
   "source": [
    "for row in data_rows:\n",
    "    row_data = row.find_all('td')\n",
    "    if row_data:\n",
    "        individual_row = [data.text.strip() for data in row_data]\n",
    "        length = len(df)\n",
    "        df.loc[length] = individual_row"
   ]
  },
  {
   "cell_type": "code",
   "execution_count": 171,
   "id": "7197d1ab-40dc-4aa6-a485-85b07969b11c",
   "metadata": {},
   "outputs": [
    {
     "data": {
      "text/html": [
       "<div>\n",
       "<style scoped>\n",
       "    .dataframe tbody tr th:only-of-type {\n",
       "        vertical-align: middle;\n",
       "    }\n",
       "\n",
       "    .dataframe tbody tr th {\n",
       "        vertical-align: top;\n",
       "    }\n",
       "\n",
       "    .dataframe thead th {\n",
       "        text-align: right;\n",
       "    }\n",
       "</style>\n",
       "<table border=\"1\" class=\"dataframe\">\n",
       "  <thead>\n",
       "    <tr style=\"text-align: right;\">\n",
       "      <th></th>\n",
       "      <th>Rank</th>\n",
       "      <th>Name</th>\n",
       "      <th>Industry</th>\n",
       "      <th>Revenue (USD millions)</th>\n",
       "      <th>Revenue growth</th>\n",
       "      <th>Employees</th>\n",
       "      <th>Headquarters</th>\n",
       "    </tr>\n",
       "  </thead>\n",
       "  <tbody>\n",
       "    <tr>\n",
       "      <th>0</th>\n",
       "      <td>1</td>\n",
       "      <td>Walmart</td>\n",
       "      <td>Retail</td>\n",
       "      <td>648,125</td>\n",
       "      <td>6.0%</td>\n",
       "      <td>2,100,000</td>\n",
       "      <td>Bentonville, Arkansas</td>\n",
       "    </tr>\n",
       "    <tr>\n",
       "      <th>1</th>\n",
       "      <td>2</td>\n",
       "      <td>Amazon</td>\n",
       "      <td>Retail and cloud computing</td>\n",
       "      <td>574,785</td>\n",
       "      <td>11.9%</td>\n",
       "      <td>1,525,000</td>\n",
       "      <td>Seattle, Washington</td>\n",
       "    </tr>\n",
       "    <tr>\n",
       "      <th>2</th>\n",
       "      <td>3</td>\n",
       "      <td>Apple</td>\n",
       "      <td>Electronics industry</td>\n",
       "      <td>383,482</td>\n",
       "      <td>-2.8%</td>\n",
       "      <td>161,000</td>\n",
       "      <td>Cupertino, California</td>\n",
       "    </tr>\n",
       "    <tr>\n",
       "      <th>3</th>\n",
       "      <td>4</td>\n",
       "      <td>UnitedHealth Group</td>\n",
       "      <td>Healthcare</td>\n",
       "      <td>371,622</td>\n",
       "      <td>14.6%</td>\n",
       "      <td>440,000</td>\n",
       "      <td>Minnetonka, Minnesota</td>\n",
       "    </tr>\n",
       "    <tr>\n",
       "      <th>4</th>\n",
       "      <td>5</td>\n",
       "      <td>Berkshire Hathaway</td>\n",
       "      <td>Conglomerate</td>\n",
       "      <td>364,482</td>\n",
       "      <td>20.7%</td>\n",
       "      <td>396,500</td>\n",
       "      <td>Omaha, Nebraska</td>\n",
       "    </tr>\n",
       "  </tbody>\n",
       "</table>\n",
       "</div>"
      ],
      "text/plain": [
       "  Rank                Name                    Industry Revenue (USD millions)  \\\n",
       "0    1             Walmart                      Retail                648,125   \n",
       "1    2              Amazon  Retail and cloud computing                574,785   \n",
       "2    3               Apple        Electronics industry                383,482   \n",
       "3    4  UnitedHealth Group                  Healthcare                371,622   \n",
       "4    5  Berkshire Hathaway                Conglomerate                364,482   \n",
       "\n",
       "  Revenue growth  Employees           Headquarters  \n",
       "0           6.0%  2,100,000  Bentonville, Arkansas  \n",
       "1          11.9%  1,525,000    Seattle, Washington  \n",
       "2          -2.8%    161,000  Cupertino, California  \n",
       "3          14.6%    440,000  Minnetonka, Minnesota  \n",
       "4          20.7%    396,500        Omaha, Nebraska  "
      ]
     },
     "execution_count": 171,
     "metadata": {},
     "output_type": "execute_result"
    }
   ],
   "source": [
    "df.head()"
   ]
  },
  {
   "cell_type": "code",
   "execution_count": 172,
   "id": "44a05ba7-6edd-4417-b941-1425e8a94871",
   "metadata": {},
   "outputs": [
    {
     "data": {
      "text/html": [
       "<div>\n",
       "<style scoped>\n",
       "    .dataframe tbody tr th:only-of-type {\n",
       "        vertical-align: middle;\n",
       "    }\n",
       "\n",
       "    .dataframe tbody tr th {\n",
       "        vertical-align: top;\n",
       "    }\n",
       "\n",
       "    .dataframe thead th {\n",
       "        text-align: right;\n",
       "    }\n",
       "</style>\n",
       "<table border=\"1\" class=\"dataframe\">\n",
       "  <thead>\n",
       "    <tr style=\"text-align: right;\">\n",
       "      <th></th>\n",
       "      <th>Rank</th>\n",
       "      <th>Name</th>\n",
       "      <th>Industry</th>\n",
       "      <th>Revenue (USD millions)</th>\n",
       "      <th>Revenue growth</th>\n",
       "      <th>Employees</th>\n",
       "      <th>Headquarters</th>\n",
       "    </tr>\n",
       "  </thead>\n",
       "  <tbody>\n",
       "    <tr>\n",
       "      <th>95</th>\n",
       "      <td>96</td>\n",
       "      <td>TIAA</td>\n",
       "      <td>Financials</td>\n",
       "      <td>45,735</td>\n",
       "      <td>11.8%</td>\n",
       "      <td>16,023</td>\n",
       "      <td>New York City, New York</td>\n",
       "    </tr>\n",
       "    <tr>\n",
       "      <th>96</th>\n",
       "      <td>97</td>\n",
       "      <td>CHS</td>\n",
       "      <td>Agriculture cooperative</td>\n",
       "      <td>45,590</td>\n",
       "      <td>-4.6%</td>\n",
       "      <td>10,609</td>\n",
       "      <td>Inver Grove Heights, Minnesota</td>\n",
       "    </tr>\n",
       "    <tr>\n",
       "      <th>97</th>\n",
       "      <td>98</td>\n",
       "      <td>Bristol-Myers Squibb</td>\n",
       "      <td>Pharmaceutical industry</td>\n",
       "      <td>45,006</td>\n",
       "      <td>-2.5%</td>\n",
       "      <td>34,100</td>\n",
       "      <td>New York City, New York</td>\n",
       "    </tr>\n",
       "    <tr>\n",
       "      <th>98</th>\n",
       "      <td>99</td>\n",
       "      <td>Dow Chemical Company</td>\n",
       "      <td>Chemical industry</td>\n",
       "      <td>44,622</td>\n",
       "      <td>-21.6%</td>\n",
       "      <td>35,900</td>\n",
       "      <td>Midland, Michigan</td>\n",
       "    </tr>\n",
       "    <tr>\n",
       "      <th>99</th>\n",
       "      <td>100</td>\n",
       "      <td>Best Buy</td>\n",
       "      <td>Retail</td>\n",
       "      <td>43,452</td>\n",
       "      <td>-6.1%</td>\n",
       "      <td>85,000</td>\n",
       "      <td>Richfield, Minnesota</td>\n",
       "    </tr>\n",
       "  </tbody>\n",
       "</table>\n",
       "</div>"
      ],
      "text/plain": [
       "   Rank                  Name                 Industry Revenue (USD millions)  \\\n",
       "95   96                  TIAA               Financials                 45,735   \n",
       "96   97                   CHS  Agriculture cooperative                 45,590   \n",
       "97   98  Bristol-Myers Squibb  Pharmaceutical industry                 45,006   \n",
       "98   99  Dow Chemical Company        Chemical industry                 44,622   \n",
       "99  100              Best Buy                   Retail                 43,452   \n",
       "\n",
       "   Revenue growth Employees                    Headquarters  \n",
       "95          11.8%    16,023         New York City, New York  \n",
       "96          -4.6%    10,609  Inver Grove Heights, Minnesota  \n",
       "97          -2.5%    34,100         New York City, New York  \n",
       "98         -21.6%    35,900               Midland, Michigan  \n",
       "99          -6.1%    85,000            Richfield, Minnesota  "
      ]
     },
     "execution_count": 172,
     "metadata": {},
     "output_type": "execute_result"
    }
   ],
   "source": [
    "df.tail()"
   ]
  },
  {
   "cell_type": "code",
   "execution_count": 173,
   "id": "d5e7f183-f0d1-41c7-8bb2-2e4ea5407956",
   "metadata": {},
   "outputs": [
    {
     "data": {
      "text/plain": [
       "Rank                      0\n",
       "Name                      0\n",
       "Industry                  0\n",
       "Revenue (USD millions)    0\n",
       "Revenue growth            0\n",
       "Employees                 0\n",
       "Headquarters              0\n",
       "dtype: int64"
      ]
     },
     "execution_count": 173,
     "metadata": {},
     "output_type": "execute_result"
    }
   ],
   "source": [
    "df.isna().sum()"
   ]
  },
  {
   "cell_type": "code",
   "execution_count": 174,
   "id": "7413ed20-9b41-4b37-ab25-a8b25c33ed64",
   "metadata": {},
   "outputs": [
    {
     "data": {
      "text/plain": [
       "Rank                      0\n",
       "Name                      0\n",
       "Industry                  0\n",
       "Revenue (USD millions)    0\n",
       "Revenue growth            0\n",
       "Employees                 0\n",
       "Headquarters              0\n",
       "dtype: int64"
      ]
     },
     "execution_count": 174,
     "metadata": {},
     "output_type": "execute_result"
    }
   ],
   "source": [
    "df.isnull().sum()"
   ]
  },
  {
   "cell_type": "code",
   "execution_count": 175,
   "id": "387e2cfd-df23-4d82-ac6b-1c7506542fb5",
   "metadata": {},
   "outputs": [
    {
     "data": {
      "text/plain": [
       "0"
      ]
     },
     "execution_count": 175,
     "metadata": {},
     "output_type": "execute_result"
    }
   ],
   "source": [
    "df.duplicated().sum()"
   ]
  },
  {
   "cell_type": "code",
   "execution_count": 176,
   "id": "34db0e9b-b575-4467-ab08-c3e609db0dd6",
   "metadata": {},
   "outputs": [
    {
     "data": {
      "text/plain": [
       "(100, 7)"
      ]
     },
     "execution_count": 176,
     "metadata": {},
     "output_type": "execute_result"
    }
   ],
   "source": [
    "df.shape"
   ]
  },
  {
   "cell_type": "code",
   "execution_count": 177,
   "id": "fc6a80a6-a5ff-4c52-8dc3-4a5bd928b6f2",
   "metadata": {},
   "outputs": [
    {
     "data": {
      "text/plain": [
       "Rank                      object\n",
       "Name                      object\n",
       "Industry                  object\n",
       "Revenue (USD millions)    object\n",
       "Revenue growth            object\n",
       "Employees                 object\n",
       "Headquarters              object\n",
       "dtype: object"
      ]
     },
     "execution_count": 177,
     "metadata": {},
     "output_type": "execute_result"
    }
   ],
   "source": [
    "df.dtypes"
   ]
  },
  {
   "cell_type": "code",
   "execution_count": 178,
   "id": "bf49d089-6447-4bb7-9636-c72e4001558c",
   "metadata": {},
   "outputs": [],
   "source": [
    "df.columns = df.columns.str.replace(' ', '_')"
   ]
  },
  {
   "cell_type": "code",
   "execution_count": 179,
   "id": "ca1780d9-fe1e-4325-86d3-2ad1615273d4",
   "metadata": {},
   "outputs": [
    {
     "data": {
      "text/html": [
       "<div>\n",
       "<style scoped>\n",
       "    .dataframe tbody tr th:only-of-type {\n",
       "        vertical-align: middle;\n",
       "    }\n",
       "\n",
       "    .dataframe tbody tr th {\n",
       "        vertical-align: top;\n",
       "    }\n",
       "\n",
       "    .dataframe thead th {\n",
       "        text-align: right;\n",
       "    }\n",
       "</style>\n",
       "<table border=\"1\" class=\"dataframe\">\n",
       "  <thead>\n",
       "    <tr style=\"text-align: right;\">\n",
       "      <th></th>\n",
       "      <th>Rank</th>\n",
       "      <th>Name</th>\n",
       "      <th>Industry</th>\n",
       "      <th>Revenue_(USD_millions)</th>\n",
       "      <th>Revenue_growth</th>\n",
       "      <th>Employees</th>\n",
       "      <th>Headquarters</th>\n",
       "    </tr>\n",
       "  </thead>\n",
       "  <tbody>\n",
       "    <tr>\n",
       "      <th>0</th>\n",
       "      <td>1</td>\n",
       "      <td>Walmart</td>\n",
       "      <td>Retail</td>\n",
       "      <td>648,125</td>\n",
       "      <td>6.0%</td>\n",
       "      <td>2,100,000</td>\n",
       "      <td>Bentonville, Arkansas</td>\n",
       "    </tr>\n",
       "    <tr>\n",
       "      <th>1</th>\n",
       "      <td>2</td>\n",
       "      <td>Amazon</td>\n",
       "      <td>Retail and cloud computing</td>\n",
       "      <td>574,785</td>\n",
       "      <td>11.9%</td>\n",
       "      <td>1,525,000</td>\n",
       "      <td>Seattle, Washington</td>\n",
       "    </tr>\n",
       "    <tr>\n",
       "      <th>2</th>\n",
       "      <td>3</td>\n",
       "      <td>Apple</td>\n",
       "      <td>Electronics industry</td>\n",
       "      <td>383,482</td>\n",
       "      <td>-2.8%</td>\n",
       "      <td>161,000</td>\n",
       "      <td>Cupertino, California</td>\n",
       "    </tr>\n",
       "    <tr>\n",
       "      <th>3</th>\n",
       "      <td>4</td>\n",
       "      <td>UnitedHealth Group</td>\n",
       "      <td>Healthcare</td>\n",
       "      <td>371,622</td>\n",
       "      <td>14.6%</td>\n",
       "      <td>440,000</td>\n",
       "      <td>Minnetonka, Minnesota</td>\n",
       "    </tr>\n",
       "    <tr>\n",
       "      <th>4</th>\n",
       "      <td>5</td>\n",
       "      <td>Berkshire Hathaway</td>\n",
       "      <td>Conglomerate</td>\n",
       "      <td>364,482</td>\n",
       "      <td>20.7%</td>\n",
       "      <td>396,500</td>\n",
       "      <td>Omaha, Nebraska</td>\n",
       "    </tr>\n",
       "  </tbody>\n",
       "</table>\n",
       "</div>"
      ],
      "text/plain": [
       "  Rank                Name                    Industry Revenue_(USD_millions)  \\\n",
       "0    1             Walmart                      Retail                648,125   \n",
       "1    2              Amazon  Retail and cloud computing                574,785   \n",
       "2    3               Apple        Electronics industry                383,482   \n",
       "3    4  UnitedHealth Group                  Healthcare                371,622   \n",
       "4    5  Berkshire Hathaway                Conglomerate                364,482   \n",
       "\n",
       "  Revenue_growth  Employees           Headquarters  \n",
       "0           6.0%  2,100,000  Bentonville, Arkansas  \n",
       "1          11.9%  1,525,000    Seattle, Washington  \n",
       "2          -2.8%    161,000  Cupertino, California  \n",
       "3          14.6%    440,000  Minnetonka, Minnesota  \n",
       "4          20.7%    396,500        Omaha, Nebraska  "
      ]
     },
     "execution_count": 179,
     "metadata": {},
     "output_type": "execute_result"
    }
   ],
   "source": [
    "df.head()"
   ]
  },
  {
   "cell_type": "code",
   "execution_count": 180,
   "id": "dea1f1f6-5edf-447d-a1a4-8c6e32df9424",
   "metadata": {},
   "outputs": [],
   "source": [
    "df = df.apply(lambda x: x.str.strip() if x.dtype == \"object\" else x) #trimming"
   ]
  },
  {
   "cell_type": "code",
   "execution_count": 181,
   "id": "71a16476-9ec3-4051-a95b-19b09b9807ec",
   "metadata": {},
   "outputs": [],
   "source": [
    "#data type conversion\n",
    "df['Revenue_growth'] = df['Revenue_growth'].str.replace('%','').astype(float)\n",
    "df['Revenue_(USD_millions)'] = df['Revenue_(USD_millions)'].str.replace(',','').astype(int)\n",
    "df['Employees'] = df['Employees'].str.replace(',','').astype(int)\n",
    "df['Rank'] = df['Rank'].astype(int)"
   ]
  },
  {
   "cell_type": "code",
   "execution_count": 154,
   "id": "658de936-db09-4f3a-9f17-316a4c698675",
   "metadata": {},
   "outputs": [
    {
     "data": {
      "text/plain": [
       "Rank                        int32\n",
       "Name                       object\n",
       "Industry                   object\n",
       "Revenue_(USD_millions)      int32\n",
       "Revenue_growth            float64\n",
       "Employees                   int32\n",
       "Headquarters               object\n",
       "dtype: object"
      ]
     },
     "execution_count": 154,
     "metadata": {},
     "output_type": "execute_result"
    }
   ],
   "source": [
    "df.dtypes"
   ]
  },
  {
   "cell_type": "code",
   "execution_count": 182,
   "id": "7b6a81f4-d716-4821-8ac4-4e6df3e2a569",
   "metadata": {},
   "outputs": [
    {
     "name": "stdout",
     "output_type": "stream",
     "text": [
      "git version 2.45.1.windows.1\n"
     ]
    }
   ],
   "source": [
    "!git --version"
   ]
  },
  {
   "cell_type": "code",
   "execution_count": 183,
   "id": "cf1b60c3-f713-4d36-a8d1-0481d276b2d5",
   "metadata": {},
   "outputs": [
    {
     "name": "stdout",
     "output_type": "stream",
     "text": [
      "On branch main\n",
      "Your branch is up to date with 'origin/main'.\n",
      "\n",
      "Changes not staged for commit:\n",
      "  (use \"git add <file>...\" to update what will be committed)\n",
      "  (use \"git restore <file>...\" to discard changes in working directory)\n",
      "\tmodified:   Web_Scraping_And_Analysis_US_Companies_Revenue.ipynb\n",
      "\n",
      "Untracked files:\n",
      "  (use \"git add <file>...\" to include in what will be committed)\n",
      "\t.ipynb_checkpoints/\n",
      "\n",
      "no changes added to commit (use \"git add\" and/or \"git commit -a\")\n"
     ]
    }
   ],
   "source": [
    "!git status"
   ]
  },
  {
   "cell_type": "code",
   "execution_count": 184,
   "id": "fdd106e6-8937-4fe2-85f8-a551512de0be",
   "metadata": {},
   "outputs": [
    {
     "name": "stderr",
     "output_type": "stream",
     "text": [
      "warning: in the working copy of 'Web_Scraping_And_Analysis_US_Companies_Revenue.ipynb', LF will be replaced by CRLF the next time Git touches it\n",
      "warning: in the working copy of '.ipynb_checkpoints/Web_Scraping_And_Analysis_US_Companies_Revenue-checkpoint.ipynb', LF will be replaced by CRLF the next time Git touches it\n"
     ]
    }
   ],
   "source": [
    "!git add ."
   ]
  },
  {
   "cell_type": "code",
   "execution_count": null,
   "id": "a5390023-5c86-480e-ad33-b36efb569071",
   "metadata": {},
   "outputs": [],
   "source": [
    "!git commit -am \"Data cleai\""
   ]
  }
 ],
 "metadata": {
  "kernelspec": {
   "display_name": "Python 3 (ipykernel)",
   "language": "python",
   "name": "python3"
  },
  "language_info": {
   "codemirror_mode": {
    "name": "ipython",
    "version": 3
   },
   "file_extension": ".py",
   "mimetype": "text/x-python",
   "name": "python",
   "nbconvert_exporter": "python",
   "pygments_lexer": "ipython3",
   "version": "3.12.7"
  }
 },
 "nbformat": 4,
 "nbformat_minor": 5
}
